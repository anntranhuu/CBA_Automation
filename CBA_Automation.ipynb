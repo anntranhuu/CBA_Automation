{
  "nbformat": 4,
  "nbformat_minor": 0,
  "metadata": {
    "colab": {
      "provenance": [],
      "toc_visible": true,
      "authorship_tag": "ABX9TyPTvdSnkARVpwZCTk/ihj13",
      "include_colab_link": true
    },
    "kernelspec": {
      "name": "python3",
      "display_name": "Python 3"
    },
    "language_info": {
      "name": "python"
    }
  },
  "cells": [
    {
      "cell_type": "markdown",
      "metadata": {
        "id": "view-in-github",
        "colab_type": "text"
      },
      "source": [
        "<a href=\"https://colab.research.google.com/github/anntranhuu/CBA_Automation/blob/main/CBA_Automation.ipynb\" target=\"_parent\"><img src=\"https://colab.research.google.com/assets/colab-badge.svg\" alt=\"Open In Colab\"/></a>"
      ]
    },
    {
      "cell_type": "markdown",
      "source": [
        "# Cost Benefit Automation Project\n",
        "\n",
        "## Objectives\n",
        "\n",
        "The aim of this project is to get a better idea of how Python (together with SQL) can be used to automate the Cost-Benefit Analysis (CBA) process.\n",
        "\n",
        "## Contents\n",
        "\n",
        "Below is the structure of the project:\n",
        "1. Create Mock Database using SQL\n",
        "2. Create a Function for CBA\n",
        "3. Create Function to Plot Results\n",
        "4. Apply Functions to Mock Database\n",
        "5. Interpretation\n",
        "\n",
        "First a mock database will be created representing data from one particular project (e.g. Hybrid Offshore Assets)."
      ],
      "metadata": {
        "id": "CeNVusokd4Bt"
      }
    },
    {
      "cell_type": "markdown",
      "source": [
        "## Create a Mock Database using SQL"
      ],
      "metadata": {
        "id": "j71_drMriiJb"
      }
    },
    {
      "cell_type": "code",
      "source": [
        "import sqlite3\n",
        "import pandas as pd\n",
        "import matplotlib.pyplot as plt"
      ],
      "metadata": {
        "id": "YSlGyRQ_gO3A"
      },
      "execution_count": 1,
      "outputs": []
    },
    {
      "cell_type": "code",
      "source": [
        "# Create a database\n",
        "conn = sqlite3.connect(\"project_data.db\")\n",
        "cur = conn.cursor()\n",
        "\n",
        "# Create table\n",
        "cur.execute(\"\"\"\n",
        "CREATE TABLE project_cba (\n",
        "    year INTEGER,\n",
        "    capex REAL,\n",
        "    opex REAL,\n",
        "    benefit_energy REAL,\n",
        "    benefit_co2 REAL,\n",
        "    discount_rate REAL\n",
        ")\n",
        "\"\"\")\n",
        "\n"
      ],
      "metadata": {
        "id": "S8Bf-V-mYNv6",
        "colab": {
          "base_uri": "https://localhost:8080/"
        },
        "outputId": "773796f8-27de-4c88-a57a-bb64771cdb17"
      },
      "execution_count": 2,
      "outputs": [
        {
          "output_type": "execute_result",
          "data": {
            "text/plain": [
              "<sqlite3.Cursor at 0x7aba14e66040>"
            ]
          },
          "metadata": {},
          "execution_count": 2
        }
      ]
    },
    {
      "cell_type": "markdown",
      "source": [
        "The above columns in the table are based on some of the features that are expected to be found in data to be used for CBA in line with OFGEM and ENTSOE methodologies. Definitions of each of the features are as follows:\n",
        "\n",
        "- **Year**: The year the data applies to\n",
        "- **Capex**: Capital Expenditure, i.e. how much is expected to build the infrastructure\n",
        "- **Opex**: Operational Expenditure, i.e. how much is expected to operate and maintain the project\n",
        "- **Benefit_energy**: How much cheaper (or more efficient) is the energy compared to alternatives?\n",
        "- **Benefit_co2**: The monetised value of carbon emissions avoided by using cleaner energy sources instead of dirtier ones\n",
        "- **Discount_rate**: Discount rate set by regulators to be used to calculate the discount factor and thus NPV (Net Present Value). This is needed as the money today is worth more than in the future due to factors like inflation and lost money from investing.\n"
      ],
      "metadata": {
        "id": "F8DSakgVkB4I"
      }
    },
    {
      "cell_type": "code",
      "source": [
        "# Insert example data\n",
        "cur.executemany(\"\"\"\n",
        "INSERT INTO project_cba (year, capex, opex, benefit_energy, benefit_co2, discount_rate)\n",
        "VALUES (?, ?, ?, ?, ?, ?)\n",
        "\"\"\", [\n",
        "    (2024, 5_000_000, 250_000, 0, 0, 0.035),\n",
        "    (2025, 1_000_000, 50_000, 300_000, 20_000, 0.035),\n",
        "    (2026, 2_000_000, 50_000, 310_000, 21_000, 0.035),\n",
        "    (2027, 1_200_000, 50_000, 320_000, 22_000, 0.035),\n",
        "    (2028, 3_000_000, 330_000, 890_000, 135_000, 0.035)\n",
        "])\n",
        "\n",
        "df = pd.read_sql_query(\"SELECT * FROM project_cba\", conn)\n",
        "\n",
        "conn.commit()\n",
        "conn.close()\n"
      ],
      "metadata": {
        "id": "qWc6Oo8FfcNV"
      },
      "execution_count": 3,
      "outputs": []
    },
    {
      "cell_type": "code",
      "source": [
        "df"
      ],
      "metadata": {
        "colab": {
          "base_uri": "https://localhost:8080/",
          "height": 206
        },
        "id": "DEZYTjjHcu1x",
        "outputId": "18ad83e0-6fa3-433f-bd55-83d101b1f444"
      },
      "execution_count": 4,
      "outputs": [
        {
          "output_type": "execute_result",
          "data": {
            "text/plain": [
              "   year      capex      opex  benefit_energy  benefit_co2  discount_rate\n",
              "0  2024  5000000.0  250000.0             0.0          0.0          0.035\n",
              "1  2025  1000000.0   50000.0        300000.0      20000.0          0.035\n",
              "2  2026  2000000.0   50000.0        310000.0      21000.0          0.035\n",
              "3  2027  1200000.0   50000.0        320000.0      22000.0          0.035\n",
              "4  2028  3000000.0  330000.0        890000.0     135000.0          0.035"
            ],
            "text/html": [
              "\n",
              "  <div id=\"df-caffb9ff-5bf9-481f-ae3a-dcc3cf672cff\" class=\"colab-df-container\">\n",
              "    <div>\n",
              "<style scoped>\n",
              "    .dataframe tbody tr th:only-of-type {\n",
              "        vertical-align: middle;\n",
              "    }\n",
              "\n",
              "    .dataframe tbody tr th {\n",
              "        vertical-align: top;\n",
              "    }\n",
              "\n",
              "    .dataframe thead th {\n",
              "        text-align: right;\n",
              "    }\n",
              "</style>\n",
              "<table border=\"1\" class=\"dataframe\">\n",
              "  <thead>\n",
              "    <tr style=\"text-align: right;\">\n",
              "      <th></th>\n",
              "      <th>year</th>\n",
              "      <th>capex</th>\n",
              "      <th>opex</th>\n",
              "      <th>benefit_energy</th>\n",
              "      <th>benefit_co2</th>\n",
              "      <th>discount_rate</th>\n",
              "    </tr>\n",
              "  </thead>\n",
              "  <tbody>\n",
              "    <tr>\n",
              "      <th>0</th>\n",
              "      <td>2024</td>\n",
              "      <td>5000000.0</td>\n",
              "      <td>250000.0</td>\n",
              "      <td>0.0</td>\n",
              "      <td>0.0</td>\n",
              "      <td>0.035</td>\n",
              "    </tr>\n",
              "    <tr>\n",
              "      <th>1</th>\n",
              "      <td>2025</td>\n",
              "      <td>1000000.0</td>\n",
              "      <td>50000.0</td>\n",
              "      <td>300000.0</td>\n",
              "      <td>20000.0</td>\n",
              "      <td>0.035</td>\n",
              "    </tr>\n",
              "    <tr>\n",
              "      <th>2</th>\n",
              "      <td>2026</td>\n",
              "      <td>2000000.0</td>\n",
              "      <td>50000.0</td>\n",
              "      <td>310000.0</td>\n",
              "      <td>21000.0</td>\n",
              "      <td>0.035</td>\n",
              "    </tr>\n",
              "    <tr>\n",
              "      <th>3</th>\n",
              "      <td>2027</td>\n",
              "      <td>1200000.0</td>\n",
              "      <td>50000.0</td>\n",
              "      <td>320000.0</td>\n",
              "      <td>22000.0</td>\n",
              "      <td>0.035</td>\n",
              "    </tr>\n",
              "    <tr>\n",
              "      <th>4</th>\n",
              "      <td>2028</td>\n",
              "      <td>3000000.0</td>\n",
              "      <td>330000.0</td>\n",
              "      <td>890000.0</td>\n",
              "      <td>135000.0</td>\n",
              "      <td>0.035</td>\n",
              "    </tr>\n",
              "  </tbody>\n",
              "</table>\n",
              "</div>\n",
              "    <div class=\"colab-df-buttons\">\n",
              "\n",
              "  <div class=\"colab-df-container\">\n",
              "    <button class=\"colab-df-convert\" onclick=\"convertToInteractive('df-caffb9ff-5bf9-481f-ae3a-dcc3cf672cff')\"\n",
              "            title=\"Convert this dataframe to an interactive table.\"\n",
              "            style=\"display:none;\">\n",
              "\n",
              "  <svg xmlns=\"http://www.w3.org/2000/svg\" height=\"24px\" viewBox=\"0 -960 960 960\">\n",
              "    <path d=\"M120-120v-720h720v720H120Zm60-500h600v-160H180v160Zm220 220h160v-160H400v160Zm0 220h160v-160H400v160ZM180-400h160v-160H180v160Zm440 0h160v-160H620v160ZM180-180h160v-160H180v160Zm440 0h160v-160H620v160Z\"/>\n",
              "  </svg>\n",
              "    </button>\n",
              "\n",
              "  <style>\n",
              "    .colab-df-container {\n",
              "      display:flex;\n",
              "      gap: 12px;\n",
              "    }\n",
              "\n",
              "    .colab-df-convert {\n",
              "      background-color: #E8F0FE;\n",
              "      border: none;\n",
              "      border-radius: 50%;\n",
              "      cursor: pointer;\n",
              "      display: none;\n",
              "      fill: #1967D2;\n",
              "      height: 32px;\n",
              "      padding: 0 0 0 0;\n",
              "      width: 32px;\n",
              "    }\n",
              "\n",
              "    .colab-df-convert:hover {\n",
              "      background-color: #E2EBFA;\n",
              "      box-shadow: 0px 1px 2px rgba(60, 64, 67, 0.3), 0px 1px 3px 1px rgba(60, 64, 67, 0.15);\n",
              "      fill: #174EA6;\n",
              "    }\n",
              "\n",
              "    .colab-df-buttons div {\n",
              "      margin-bottom: 4px;\n",
              "    }\n",
              "\n",
              "    [theme=dark] .colab-df-convert {\n",
              "      background-color: #3B4455;\n",
              "      fill: #D2E3FC;\n",
              "    }\n",
              "\n",
              "    [theme=dark] .colab-df-convert:hover {\n",
              "      background-color: #434B5C;\n",
              "      box-shadow: 0px 1px 3px 1px rgba(0, 0, 0, 0.15);\n",
              "      filter: drop-shadow(0px 1px 2px rgba(0, 0, 0, 0.3));\n",
              "      fill: #FFFFFF;\n",
              "    }\n",
              "  </style>\n",
              "\n",
              "    <script>\n",
              "      const buttonEl =\n",
              "        document.querySelector('#df-caffb9ff-5bf9-481f-ae3a-dcc3cf672cff button.colab-df-convert');\n",
              "      buttonEl.style.display =\n",
              "        google.colab.kernel.accessAllowed ? 'block' : 'none';\n",
              "\n",
              "      async function convertToInteractive(key) {\n",
              "        const element = document.querySelector('#df-caffb9ff-5bf9-481f-ae3a-dcc3cf672cff');\n",
              "        const dataTable =\n",
              "          await google.colab.kernel.invokeFunction('convertToInteractive',\n",
              "                                                    [key], {});\n",
              "        if (!dataTable) return;\n",
              "\n",
              "        const docLinkHtml = 'Like what you see? Visit the ' +\n",
              "          '<a target=\"_blank\" href=https://colab.research.google.com/notebooks/data_table.ipynb>data table notebook</a>'\n",
              "          + ' to learn more about interactive tables.';\n",
              "        element.innerHTML = '';\n",
              "        dataTable['output_type'] = 'display_data';\n",
              "        await google.colab.output.renderOutput(dataTable, element);\n",
              "        const docLink = document.createElement('div');\n",
              "        docLink.innerHTML = docLinkHtml;\n",
              "        element.appendChild(docLink);\n",
              "      }\n",
              "    </script>\n",
              "  </div>\n",
              "\n",
              "\n",
              "    <div id=\"df-a72b1607-5e3c-44b4-820a-a4f664919313\">\n",
              "      <button class=\"colab-df-quickchart\" onclick=\"quickchart('df-a72b1607-5e3c-44b4-820a-a4f664919313')\"\n",
              "                title=\"Suggest charts\"\n",
              "                style=\"display:none;\">\n",
              "\n",
              "<svg xmlns=\"http://www.w3.org/2000/svg\" height=\"24px\"viewBox=\"0 0 24 24\"\n",
              "     width=\"24px\">\n",
              "    <g>\n",
              "        <path d=\"M19 3H5c-1.1 0-2 .9-2 2v14c0 1.1.9 2 2 2h14c1.1 0 2-.9 2-2V5c0-1.1-.9-2-2-2zM9 17H7v-7h2v7zm4 0h-2V7h2v10zm4 0h-2v-4h2v4z\"/>\n",
              "    </g>\n",
              "</svg>\n",
              "      </button>\n",
              "\n",
              "<style>\n",
              "  .colab-df-quickchart {\n",
              "      --bg-color: #E8F0FE;\n",
              "      --fill-color: #1967D2;\n",
              "      --hover-bg-color: #E2EBFA;\n",
              "      --hover-fill-color: #174EA6;\n",
              "      --disabled-fill-color: #AAA;\n",
              "      --disabled-bg-color: #DDD;\n",
              "  }\n",
              "\n",
              "  [theme=dark] .colab-df-quickchart {\n",
              "      --bg-color: #3B4455;\n",
              "      --fill-color: #D2E3FC;\n",
              "      --hover-bg-color: #434B5C;\n",
              "      --hover-fill-color: #FFFFFF;\n",
              "      --disabled-bg-color: #3B4455;\n",
              "      --disabled-fill-color: #666;\n",
              "  }\n",
              "\n",
              "  .colab-df-quickchart {\n",
              "    background-color: var(--bg-color);\n",
              "    border: none;\n",
              "    border-radius: 50%;\n",
              "    cursor: pointer;\n",
              "    display: none;\n",
              "    fill: var(--fill-color);\n",
              "    height: 32px;\n",
              "    padding: 0;\n",
              "    width: 32px;\n",
              "  }\n",
              "\n",
              "  .colab-df-quickchart:hover {\n",
              "    background-color: var(--hover-bg-color);\n",
              "    box-shadow: 0 1px 2px rgba(60, 64, 67, 0.3), 0 1px 3px 1px rgba(60, 64, 67, 0.15);\n",
              "    fill: var(--button-hover-fill-color);\n",
              "  }\n",
              "\n",
              "  .colab-df-quickchart-complete:disabled,\n",
              "  .colab-df-quickchart-complete:disabled:hover {\n",
              "    background-color: var(--disabled-bg-color);\n",
              "    fill: var(--disabled-fill-color);\n",
              "    box-shadow: none;\n",
              "  }\n",
              "\n",
              "  .colab-df-spinner {\n",
              "    border: 2px solid var(--fill-color);\n",
              "    border-color: transparent;\n",
              "    border-bottom-color: var(--fill-color);\n",
              "    animation:\n",
              "      spin 1s steps(1) infinite;\n",
              "  }\n",
              "\n",
              "  @keyframes spin {\n",
              "    0% {\n",
              "      border-color: transparent;\n",
              "      border-bottom-color: var(--fill-color);\n",
              "      border-left-color: var(--fill-color);\n",
              "    }\n",
              "    20% {\n",
              "      border-color: transparent;\n",
              "      border-left-color: var(--fill-color);\n",
              "      border-top-color: var(--fill-color);\n",
              "    }\n",
              "    30% {\n",
              "      border-color: transparent;\n",
              "      border-left-color: var(--fill-color);\n",
              "      border-top-color: var(--fill-color);\n",
              "      border-right-color: var(--fill-color);\n",
              "    }\n",
              "    40% {\n",
              "      border-color: transparent;\n",
              "      border-right-color: var(--fill-color);\n",
              "      border-top-color: var(--fill-color);\n",
              "    }\n",
              "    60% {\n",
              "      border-color: transparent;\n",
              "      border-right-color: var(--fill-color);\n",
              "    }\n",
              "    80% {\n",
              "      border-color: transparent;\n",
              "      border-right-color: var(--fill-color);\n",
              "      border-bottom-color: var(--fill-color);\n",
              "    }\n",
              "    90% {\n",
              "      border-color: transparent;\n",
              "      border-bottom-color: var(--fill-color);\n",
              "    }\n",
              "  }\n",
              "</style>\n",
              "\n",
              "      <script>\n",
              "        async function quickchart(key) {\n",
              "          const quickchartButtonEl =\n",
              "            document.querySelector('#' + key + ' button');\n",
              "          quickchartButtonEl.disabled = true;  // To prevent multiple clicks.\n",
              "          quickchartButtonEl.classList.add('colab-df-spinner');\n",
              "          try {\n",
              "            const charts = await google.colab.kernel.invokeFunction(\n",
              "                'suggestCharts', [key], {});\n",
              "          } catch (error) {\n",
              "            console.error('Error during call to suggestCharts:', error);\n",
              "          }\n",
              "          quickchartButtonEl.classList.remove('colab-df-spinner');\n",
              "          quickchartButtonEl.classList.add('colab-df-quickchart-complete');\n",
              "        }\n",
              "        (() => {\n",
              "          let quickchartButtonEl =\n",
              "            document.querySelector('#df-a72b1607-5e3c-44b4-820a-a4f664919313 button');\n",
              "          quickchartButtonEl.style.display =\n",
              "            google.colab.kernel.accessAllowed ? 'block' : 'none';\n",
              "        })();\n",
              "      </script>\n",
              "    </div>\n",
              "\n",
              "  <div id=\"id_9705a60d-8fa8-4ff7-a6bd-f8c5efed5a8e\">\n",
              "    <style>\n",
              "      .colab-df-generate {\n",
              "        background-color: #E8F0FE;\n",
              "        border: none;\n",
              "        border-radius: 50%;\n",
              "        cursor: pointer;\n",
              "        display: none;\n",
              "        fill: #1967D2;\n",
              "        height: 32px;\n",
              "        padding: 0 0 0 0;\n",
              "        width: 32px;\n",
              "      }\n",
              "\n",
              "      .colab-df-generate:hover {\n",
              "        background-color: #E2EBFA;\n",
              "        box-shadow: 0px 1px 2px rgba(60, 64, 67, 0.3), 0px 1px 3px 1px rgba(60, 64, 67, 0.15);\n",
              "        fill: #174EA6;\n",
              "      }\n",
              "\n",
              "      [theme=dark] .colab-df-generate {\n",
              "        background-color: #3B4455;\n",
              "        fill: #D2E3FC;\n",
              "      }\n",
              "\n",
              "      [theme=dark] .colab-df-generate:hover {\n",
              "        background-color: #434B5C;\n",
              "        box-shadow: 0px 1px 3px 1px rgba(0, 0, 0, 0.15);\n",
              "        filter: drop-shadow(0px 1px 2px rgba(0, 0, 0, 0.3));\n",
              "        fill: #FFFFFF;\n",
              "      }\n",
              "    </style>\n",
              "    <button class=\"colab-df-generate\" onclick=\"generateWithVariable('df')\"\n",
              "            title=\"Generate code using this dataframe.\"\n",
              "            style=\"display:none;\">\n",
              "\n",
              "  <svg xmlns=\"http://www.w3.org/2000/svg\" height=\"24px\"viewBox=\"0 0 24 24\"\n",
              "       width=\"24px\">\n",
              "    <path d=\"M7,19H8.4L18.45,9,17,7.55,7,17.6ZM5,21V16.75L18.45,3.32a2,2,0,0,1,2.83,0l1.4,1.43a1.91,1.91,0,0,1,.58,1.4,1.91,1.91,0,0,1-.58,1.4L9.25,21ZM18.45,9,17,7.55Zm-12,3A5.31,5.31,0,0,0,4.9,8.1,5.31,5.31,0,0,0,1,6.5,5.31,5.31,0,0,0,4.9,4.9,5.31,5.31,0,0,0,6.5,1,5.31,5.31,0,0,0,8.1,4.9,5.31,5.31,0,0,0,12,6.5,5.46,5.46,0,0,0,6.5,12Z\"/>\n",
              "  </svg>\n",
              "    </button>\n",
              "    <script>\n",
              "      (() => {\n",
              "      const buttonEl =\n",
              "        document.querySelector('#id_9705a60d-8fa8-4ff7-a6bd-f8c5efed5a8e button.colab-df-generate');\n",
              "      buttonEl.style.display =\n",
              "        google.colab.kernel.accessAllowed ? 'block' : 'none';\n",
              "\n",
              "      buttonEl.onclick = () => {\n",
              "        google.colab.notebook.generateWithVariable('df');\n",
              "      }\n",
              "      })();\n",
              "    </script>\n",
              "  </div>\n",
              "\n",
              "    </div>\n",
              "  </div>\n"
            ],
            "application/vnd.google.colaboratory.intrinsic+json": {
              "type": "dataframe",
              "variable_name": "df",
              "summary": "{\n  \"name\": \"df\",\n  \"rows\": 5,\n  \"fields\": [\n    {\n      \"column\": \"year\",\n      \"properties\": {\n        \"dtype\": \"number\",\n        \"std\": 1,\n        \"min\": 2024,\n        \"max\": 2028,\n        \"num_unique_values\": 5,\n        \"samples\": [\n          2025,\n          2028,\n          2026\n        ],\n        \"semantic_type\": \"\",\n        \"description\": \"\"\n      }\n    },\n    {\n      \"column\": \"capex\",\n      \"properties\": {\n        \"dtype\": \"number\",\n        \"std\": 1633401.3591276335,\n        \"min\": 1000000.0,\n        \"max\": 5000000.0,\n        \"num_unique_values\": 5,\n        \"samples\": [\n          1000000.0,\n          3000000.0,\n          2000000.0\n        ],\n        \"semantic_type\": \"\",\n        \"description\": \"\"\n      }\n    },\n    {\n      \"column\": \"opex\",\n      \"properties\": {\n        \"dtype\": \"number\",\n        \"std\": 134461.8905117729,\n        \"min\": 50000.0,\n        \"max\": 330000.0,\n        \"num_unique_values\": 3,\n        \"samples\": [\n          250000.0,\n          50000.0,\n          330000.0\n        ],\n        \"semantic_type\": \"\",\n        \"description\": \"\"\n      }\n    },\n    {\n      \"column\": \"benefit_energy\",\n      \"properties\": {\n        \"dtype\": \"number\",\n        \"std\": 323310.99579197733,\n        \"min\": 0.0,\n        \"max\": 890000.0,\n        \"num_unique_values\": 5,\n        \"samples\": [\n          300000.0,\n          890000.0,\n          310000.0\n        ],\n        \"semantic_type\": \"\",\n        \"description\": \"\"\n      }\n    },\n    {\n      \"column\": \"benefit_co2\",\n      \"properties\": {\n        \"dtype\": \"number\",\n        \"std\": 54104.528461118665,\n        \"min\": 0.0,\n        \"max\": 135000.0,\n        \"num_unique_values\": 5,\n        \"samples\": [\n          20000.0,\n          135000.0,\n          21000.0\n        ],\n        \"semantic_type\": \"\",\n        \"description\": \"\"\n      }\n    },\n    {\n      \"column\": \"discount_rate\",\n      \"properties\": {\n        \"dtype\": \"number\",\n        \"std\": 0.0,\n        \"min\": 0.035,\n        \"max\": 0.035,\n        \"num_unique_values\": 1,\n        \"samples\": [\n          0.035\n        ],\n        \"semantic_type\": \"\",\n        \"description\": \"\"\n      }\n    }\n  ]\n}"
            }
          },
          "metadata": {},
          "execution_count": 4
        }
      ]
    },
    {
      "cell_type": "markdown",
      "source": [
        "## Create a Function for CBA"
      ],
      "metadata": {
        "id": "S-_EXhErispQ"
      }
    },
    {
      "cell_type": "code",
      "source": [
        "# Step 3: Calculate CBA\n",
        "def calculate_cba(df):\n",
        "    min_year = df['year'].min()\n",
        "    df['discount_factor'] = 1 / (1 + df['discount_rate']) ** (df['year'] - min_year)\n",
        "\n",
        "    df['discounted_capex'] = df['capex'] * df['discount_factor']\n",
        "    df['discounted_opex'] = df['opex'] * df['discount_factor']\n",
        "    df['discounted_benefit_energy'] = df['benefit_energy'] * df['discount_factor']\n",
        "    df['discounted_benefit_co2'] = df['benefit_co2'] * df['discount_factor']\n",
        "\n",
        "    df['total_discounted_benefits'] = df['discounted_benefit_energy'] + df['discounted_benefit_co2']\n",
        "    df['total_discounted_costs'] = df['discounted_capex'] + df['discounted_opex']\n",
        "\n",
        "    npv = df['total_discounted_benefits'].sum() - df['total_discounted_costs'].sum()\n",
        "    bcr = df['total_discounted_benefits'].sum() / df['total_discounted_costs'].sum()\n",
        "\n",
        "    return df, round(npv, 2), round(bcr, 2)"
      ],
      "metadata": {
        "id": "kFMgbeHFgtui"
      },
      "execution_count": 5,
      "outputs": []
    },
    {
      "cell_type": "code",
      "source": [
        "## Apply function to dataframe\n",
        "calculate_cba(df)"
      ],
      "metadata": {
        "colab": {
          "base_uri": "https://localhost:8080/"
        },
        "id": "dZ_h56t9hPzT",
        "outputId": "708c309a-cb60-46a6-a33f-863ed6971266"
      },
      "execution_count": 6,
      "outputs": [
        {
          "output_type": "execute_result",
          "data": {
            "text/plain": [
              "(   year      capex      opex  benefit_energy  benefit_co2  discount_rate  \\\n",
              " 0  2024  5000000.0  250000.0             0.0          0.0          0.035   \n",
              " 1  2025  1000000.0   50000.0        300000.0      20000.0          0.035   \n",
              " 2  2026  2000000.0   50000.0        310000.0      21000.0          0.035   \n",
              " 3  2027  1200000.0   50000.0        320000.0      22000.0          0.035   \n",
              " 4  2028  3000000.0  330000.0        890000.0     135000.0          0.035   \n",
              " \n",
              "    discount_factor  discounted_capex  discounted_opex  \\\n",
              " 0         1.000000      5.000000e+06    250000.000000   \n",
              " 1         0.966184      9.661836e+05     48309.178744   \n",
              " 2         0.933511      1.867021e+06     46675.535018   \n",
              " 3         0.901943      1.082331e+06     45097.135283   \n",
              " 4         0.871442      2.614327e+06    287575.935141   \n",
              " \n",
              "    discounted_benefit_energy  discounted_benefit_co2  \\\n",
              " 0                   0.000000                0.000000   \n",
              " 1              289855.072464            19323.671498   \n",
              " 2              289388.317114            19603.724708   \n",
              " 3              288621.665814            19842.739525   \n",
              " 4              775583.582652           117644.700739   \n",
              " \n",
              "    total_discounted_benefits  total_discounted_costs  \n",
              " 0                   0.000000            5.250000e+06  \n",
              " 1              309178.743961            1.014493e+06  \n",
              " 2              308992.041821            1.913697e+06  \n",
              " 3              308464.405338            1.127428e+06  \n",
              " 4              893228.283391            2.901903e+06  ,\n",
              " np.float64(-10387657.22),\n",
              " np.float64(0.15))"
            ]
          },
          "metadata": {},
          "execution_count": 6
        }
      ]
    },
    {
      "cell_type": "markdown",
      "source": [
        "## Create Function to Plot Results"
      ],
      "metadata": {
        "id": "xgY-apAZjID8"
      }
    },
    {
      "cell_type": "code",
      "source": [
        "# Step 4: Create a Function to Plot results\n",
        "def plot_results(df):\n",
        "    plt.figure(figsize=(10, 6))\n",
        "    plt.plot(df['year'], df['total_discounted_benefits'], label='Discounted Benefits', color='green')\n",
        "    plt.plot(df['year'], df['total_discounted_costs'], label='Discounted Costs', color='red')\n",
        "    plt.title('CBA: Discounted Benefits vs Costs')\n",
        "    plt.xlabel('Year')\n",
        "    plt.ylabel('Amount (£)')\n",
        "    plt.legend()\n",
        "    plt.grid(True)\n",
        "    plt.show()\n"
      ],
      "metadata": {
        "id": "Lg92CJyPhZlD"
      },
      "execution_count": 9,
      "outputs": []
    },
    {
      "cell_type": "markdown",
      "source": [
        "## Apply Functions to Mock Database"
      ],
      "metadata": {
        "id": "IrfGKGK_jpPb"
      }
    },
    {
      "cell_type": "code",
      "source": [
        "# Run the whole process\n",
        "df_result, npv, bcr = calculate_cba(df)\n",
        "plot_results(df_result)\n",
        "\n",
        "print(f\"\\nNet Present Value (NPV): £{npv:,.2f}\")\n",
        "print(f\"Benefit-Cost Ratio (BCR): {bcr:.2f}\")"
      ],
      "metadata": {
        "colab": {
          "base_uri": "https://localhost:8080/",
          "height": 616
        },
        "id": "xDysp_yEid1B",
        "outputId": "639fe756-7d94-4915-dfaa-180561a8dbc5"
      },
      "execution_count": 10,
      "outputs": [
        {
          "output_type": "display_data",
          "data": {
            "text/plain": [
              "<Figure size 1000x600 with 1 Axes>"
            ],
            "image/png": "[encoded data removed]"
          },
          "metadata": {}
        },
        {
          "output_type": "stream",
          "name": "stdout",
          "text": [
            "\n",
            "Net Present Value (NPV): £-10,387,657.22\n",
            "Benefit-Cost Ratio (BCR): 0.15\n"
          ]
        }
      ]
    },
    {
      "cell_type": "markdown",
      "source": [
        "## Interpretation"
      ],
      "metadata": {
        "id": "_UGkisxqOaqG"
      }
    },
    {
      "cell_type": "markdown",
      "source": [
        "A positive NPV means that the project will be protitable, as the expected earnings exceed the anticipated costs (also in today's currency valuation). However, as the NPV for this mock data is negative (-£10,387,657.22), it means that the project does not add value, and will in fact result in a loss of around 10 million pounds in today's valuation.\n",
        "\n",
        "A BCR that is greater than 1 means that the benefits outweigh the costs. The value we achieved for the BCR was 0.15, so as this is smaller than 1, it means that the benefits do not outweigh the costs."
      ],
      "metadata": {
        "id": "nGGqsJg5PTuN"
      }
    }
  ]
}